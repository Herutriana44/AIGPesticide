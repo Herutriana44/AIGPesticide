{
 "cells": [
  {
   "cell_type": "code",
   "execution_count": 4,
   "metadata": {},
   "outputs": [],
   "source": [
    "import pandas as pd\n",
    "import pubchempy as pcp"
   ]
  },
  {
   "cell_type": "code",
   "execution_count": 2,
   "metadata": {},
   "outputs": [],
   "source": [
    "df = pd.read_excel('ActiveSubstancePesticideExport_12-02-2023.xlsx',header=2)"
   ]
  },
  {
   "cell_type": "code",
   "execution_count": 3,
   "metadata": {},
   "outputs": [
    {
     "data": {
      "text/html": [
       "<div>\n",
       "<style scoped>\n",
       "    .dataframe tbody tr th:only-of-type {\n",
       "        vertical-align: middle;\n",
       "    }\n",
       "\n",
       "    .dataframe tbody tr th {\n",
       "        vertical-align: top;\n",
       "    }\n",
       "\n",
       "    .dataframe thead th {\n",
       "        text-align: right;\n",
       "    }\n",
       "</style>\n",
       "<table border=\"1\" class=\"dataframe\">\n",
       "  <thead>\n",
       "    <tr style=\"text-align: right;\">\n",
       "      <th></th>\n",
       "      <th>Active Substance ID</th>\n",
       "      <th>Substance</th>\n",
       "      <th>Status under Reg. (EC) No 1107/2009</th>\n",
       "      <th>Date of approval</th>\n",
       "      <th>Expiration of approval</th>\n",
       "      <th>Legislation</th>\n",
       "      <th>Remark</th>\n",
       "      <th>RMS</th>\n",
       "      <th>Co-RMS</th>\n",
       "      <th>Assess Risk</th>\n",
       "      <th>...</th>\n",
       "      <th>Source/Year.2</th>\n",
       "      <th>Remark.3</th>\n",
       "      <th>AAOEL (mg/kg bw/d)</th>\n",
       "      <th>Source/Year.3</th>\n",
       "      <th>Remark.4</th>\n",
       "      <th>Other (mg/kg bw/d)</th>\n",
       "      <th>Source/Year.4</th>\n",
       "      <th>Remark.5</th>\n",
       "      <th>Classification (Reg. 1272/2008)</th>\n",
       "      <th>Authorised</th>\n",
       "    </tr>\n",
       "  </thead>\n",
       "  <tbody>\n",
       "    <tr>\n",
       "      <th>0</th>\n",
       "      <td>351</td>\n",
       "      <td>(4Z-9Z)-7,9-Dodecadien-1-ol</td>\n",
       "      <td>Not approved</td>\n",
       "      <td>NaN</td>\n",
       "      <td>NaN</td>\n",
       "      <td>2004/129/EC</td>\n",
       "      <td>NaN</td>\n",
       "      <td>NaN</td>\n",
       "      <td>NaN</td>\n",
       "      <td>NaN</td>\n",
       "      <td>...</td>\n",
       "      <td>NaN</td>\n",
       "      <td>NaN</td>\n",
       "      <td>NaN</td>\n",
       "      <td>NaN</td>\n",
       "      <td>NaN</td>\n",
       "      <td>NaN</td>\n",
       "      <td>NaN</td>\n",
       "      <td>NaN</td>\n",
       "      <td>NaN</td>\n",
       "      <td>NaN</td>\n",
       "    </tr>\n",
       "    <tr>\n",
       "      <th>1</th>\n",
       "      <td>1329</td>\n",
       "      <td>(E)-10-Dodecen-1-yl acetate</td>\n",
       "      <td>Not approved</td>\n",
       "      <td>NaN</td>\n",
       "      <td>NaN</td>\n",
       "      <td>2004/129/EC</td>\n",
       "      <td>NaN</td>\n",
       "      <td>NaN</td>\n",
       "      <td>NaN</td>\n",
       "      <td>NaN</td>\n",
       "      <td>...</td>\n",
       "      <td>NaN</td>\n",
       "      <td>NaN</td>\n",
       "      <td>NaN</td>\n",
       "      <td>NaN</td>\n",
       "      <td>NaN</td>\n",
       "      <td>NaN</td>\n",
       "      <td>NaN</td>\n",
       "      <td>NaN</td>\n",
       "      <td>NaN</td>\n",
       "      <td>NaN</td>\n",
       "    </tr>\n",
       "    <tr>\n",
       "      <th>2</th>\n",
       "      <td>357</td>\n",
       "      <td>(E)-11-Tetradecen-1-yl acetate</td>\n",
       "      <td>Approved</td>\n",
       "      <td>NaN</td>\n",
       "      <td>NaN</td>\n",
       "      <td>2008/127, Reg. (EU) 2017/195, Reg. (EU) 2021/7...</td>\n",
       "      <td>&lt;p&gt;Substance fulfilling criteria Annex VI Reg....</td>\n",
       "      <td>AT</td>\n",
       "      <td>NaN</td>\n",
       "      <td>NaN</td>\n",
       "      <td>...</td>\n",
       "      <td>Dir 08/127</td>\n",
       "      <td>NaN</td>\n",
       "      <td>NaN</td>\n",
       "      <td>NaN</td>\n",
       "      <td>NaN</td>\n",
       "      <td>NaN</td>\n",
       "      <td>NaN</td>\n",
       "      <td>NaN</td>\n",
       "      <td>NaN</td>\n",
       "      <td>ES, IT, LU</td>\n",
       "    </tr>\n",
       "    <tr>\n",
       "      <th>3</th>\n",
       "      <td>358</td>\n",
       "      <td>(E)-2-Methyl-6-methylene-2,7-octadien-1-ol (my...</td>\n",
       "      <td>Not approved</td>\n",
       "      <td>NaN</td>\n",
       "      <td>NaN</td>\n",
       "      <td>2007/442</td>\n",
       "      <td>NaN</td>\n",
       "      <td>NaN</td>\n",
       "      <td>NaN</td>\n",
       "      <td>NaN</td>\n",
       "      <td>...</td>\n",
       "      <td>NaN</td>\n",
       "      <td>NaN</td>\n",
       "      <td>NaN</td>\n",
       "      <td>NaN</td>\n",
       "      <td>NaN</td>\n",
       "      <td>NaN</td>\n",
       "      <td>NaN</td>\n",
       "      <td>NaN</td>\n",
       "      <td>NaN</td>\n",
       "      <td>NaN</td>\n",
       "    </tr>\n",
       "    <tr>\n",
       "      <th>4</th>\n",
       "      <td>359</td>\n",
       "      <td>(E)-2-Methyl-6-methylene-3,7-octadien-2-ol (is...</td>\n",
       "      <td>Not approved</td>\n",
       "      <td>NaN</td>\n",
       "      <td>NaN</td>\n",
       "      <td>NaN</td>\n",
       "      <td>Never notified and authorised in the EU</td>\n",
       "      <td>NaN</td>\n",
       "      <td>NaN</td>\n",
       "      <td>NaN</td>\n",
       "      <td>...</td>\n",
       "      <td>NaN</td>\n",
       "      <td>NaN</td>\n",
       "      <td>NaN</td>\n",
       "      <td>NaN</td>\n",
       "      <td>NaN</td>\n",
       "      <td>NaN</td>\n",
       "      <td>NaN</td>\n",
       "      <td>NaN</td>\n",
       "      <td>NaN</td>\n",
       "      <td>NaN</td>\n",
       "    </tr>\n",
       "  </tbody>\n",
       "</table>\n",
       "<p>5 rows × 31 columns</p>\n",
       "</div>"
      ],
      "text/plain": [
       "   Active Substance ID                                          Substance  \\\n",
       "0                  351                        (4Z-9Z)-7,9-Dodecadien-1-ol   \n",
       "1                 1329                        (E)-10-Dodecen-1-yl acetate   \n",
       "2                  357                     (E)-11-Tetradecen-1-yl acetate   \n",
       "3                  358  (E)-2-Methyl-6-methylene-2,7-octadien-1-ol (my...   \n",
       "4                  359  (E)-2-Methyl-6-methylene-3,7-octadien-2-ol (is...   \n",
       "\n",
       "  Status under Reg. (EC) No 1107/2009 Date of approval Expiration of approval  \\\n",
       "0                        Not approved              NaN                    NaN   \n",
       "1                        Not approved              NaN                    NaN   \n",
       "2                            Approved              NaN                    NaN   \n",
       "3                        Not approved              NaN                    NaN   \n",
       "4                        Not approved              NaN                    NaN   \n",
       "\n",
       "                                         Legislation  \\\n",
       "0                                        2004/129/EC   \n",
       "1                                        2004/129/EC   \n",
       "2  2008/127, Reg. (EU) 2017/195, Reg. (EU) 2021/7...   \n",
       "3                                           2007/442   \n",
       "4                                                NaN   \n",
       "\n",
       "                                              Remark  RMS Co-RMS Assess Risk  \\\n",
       "0                                                NaN  NaN    NaN         NaN   \n",
       "1                                                NaN  NaN    NaN         NaN   \n",
       "2  <p>Substance fulfilling criteria Annex VI Reg....   AT    NaN         NaN   \n",
       "3                                                NaN  NaN    NaN         NaN   \n",
       "4            Never notified and authorised in the EU  NaN    NaN         NaN   \n",
       "\n",
       "   ... Source/Year.2 Remark.3 AAOEL (mg/kg bw/d) Source/Year.3 Remark.4  \\\n",
       "0  ...           NaN      NaN                NaN           NaN      NaN   \n",
       "1  ...           NaN      NaN                NaN           NaN      NaN   \n",
       "2  ...    Dir 08/127      NaN                NaN           NaN      NaN   \n",
       "3  ...           NaN      NaN                NaN           NaN      NaN   \n",
       "4  ...           NaN      NaN                NaN           NaN      NaN   \n",
       "\n",
       "  Other (mg/kg bw/d) Source/Year.4 Remark.5 Classification (Reg. 1272/2008)  \\\n",
       "0                NaN           NaN      NaN                             NaN   \n",
       "1                NaN           NaN      NaN                             NaN   \n",
       "2                NaN           NaN      NaN                             NaN   \n",
       "3                NaN           NaN      NaN                             NaN   \n",
       "4                NaN           NaN      NaN                             NaN   \n",
       "\n",
       "   Authorised  \n",
       "0         NaN  \n",
       "1         NaN  \n",
       "2  ES, IT, LU  \n",
       "3         NaN  \n",
       "4         NaN  \n",
       "\n",
       "[5 rows x 31 columns]"
      ]
     },
     "execution_count": 3,
     "metadata": {},
     "output_type": "execute_result"
    }
   ],
   "source": [
    "df.head()"
   ]
  },
  {
   "cell_type": "code",
   "execution_count": 20,
   "metadata": {},
   "outputs": [],
   "source": [
    "# rename kolom Status under Reg. (EC) No 1107/2009 jadi Status\n",
    "df = df.rename(columns={'Status under Reg. (EC) No 1107/2009':'Status'})"
   ]
  },
  {
   "cell_type": "code",
   "execution_count": 21,
   "metadata": {},
   "outputs": [
    {
     "data": {
      "text/plain": [
       "[Compound(118774)]"
      ]
     },
     "execution_count": 21,
     "metadata": {},
     "output_type": "execute_result"
    }
   ],
   "source": [
    "pcp.get_compounds('10-Dodecen-1-yl acetate','name')"
   ]
  },
  {
   "cell_type": "code",
   "execution_count": 22,
   "metadata": {},
   "outputs": [],
   "source": [
    "# dapatkan CID dari nama senyawa dan berikan label sesuai\n",
    "# dengan nama senyawa\n",
    "def get_cid(name):\n",
    "    try:\n",
    "        cid = pcp.get_compounds(name,'name')[0].cid\n",
    "        return cid\n",
    "    except:\n",
    "        return None"
   ]
  },
  {
   "cell_type": "code",
   "execution_count": 23,
   "metadata": {},
   "outputs": [],
   "source": [
    "df = df[['Substance','Status']]"
   ]
  },
  {
   "cell_type": "code",
   "execution_count": 26,
   "metadata": {},
   "outputs": [],
   "source": [
    "# hapus data yang mengandung 'Pending' dan 'Not yet assessed at EU level' pada kolom Status\n",
    "df = df[~df['Status'].isin(['Pending','Not yet assessed at EU level'])]"
   ]
  },
  {
   "cell_type": "code",
   "execution_count": 28,
   "metadata": {},
   "outputs": [],
   "source": [
    "# ubah 'Not approved' dan 'Approved' menjadi 0 dan 1\n",
    "df['Status'] = df['Status'].replace({'Not approved':0,'Approved':1})"
   ]
  },
  {
   "cell_type": "code",
   "execution_count": null,
   "metadata": {},
   "outputs": [],
   "source": [
    "# buatkan dataframe baru dengan kolom CID dan Status, lalu isi kolom CID dengan CID dari nama senyawa, jika CID lebih dari satu maka buatkan ke baris baru dengan status yang sama\n",
    "df2 = pd.DataFrame(columns=['CID','Status'])\n",
    "for i in range(len(df)):\n",
    "    cid = get_cid(df.iloc[i,0])\n",
    "    if cid is not None:\n",
    "        df2 = df2.append({'CID':cid,'Status':df.iloc[i,1]},ignore_index=True)"
   ]
  },
  {
   "cell_type": "code",
   "execution_count": 33,
   "metadata": {},
   "outputs": [],
   "source": [
    "df2.to_csv('resultScrapeActiveCompoundPersticide.csv',index=False)"
   ]
  }
 ],
 "metadata": {
  "kernelspec": {
   "display_name": "Python 3",
   "language": "python",
   "name": "python3"
  },
  "language_info": {
   "codemirror_mode": {
    "name": "ipython",
    "version": 3
   },
   "file_extension": ".py",
   "mimetype": "text/x-python",
   "name": "python",
   "nbconvert_exporter": "python",
   "pygments_lexer": "ipython3",
   "version": "3.9.2 (default, Feb 28 2021, 17:03:44) \n[GCC 10.2.1 20210110]"
  },
  "orig_nbformat": 4,
  "vscode": {
   "interpreter": {
    "hash": "916dbcbb3f70747c44a77c7bcd40155683ae19c65e1c03b4aa3499c5328201f1"
   }
  }
 },
 "nbformat": 4,
 "nbformat_minor": 2
}
